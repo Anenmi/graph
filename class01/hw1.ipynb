{
  "cells": [
    {
      "cell_type": "markdown",
      "metadata": {
        "id": "Sk1wIDuOH2Lh"
      },
      "source": [
        "# Домашнее задание 1, задача 1\n",
        "\n",
        "В этом задании мы рассмотрим граф товаров, часто покупаемых вместе, и попробуем выделить группы взаимосвязанных ключевых товаров, которые покупают со многими другими товарами той же группы. Для этого мы хотим последовательно удалять из графа вершины степени не больше 5 до тех пор, пока такие вершины остаются. После этого компоненты связности получившегося графа как раз и будем считать такими группами ключевых продуктов. \n",
        "\n",
        "В результате работы программа должна построить описанный выше граф и напечатать количество компонент связности в нем.\n",
        "\n",
        "\n",
        "---\n",
        "**Правила сдачи.** Это первая из двух задач первого домашнего задания. Каждая задача оценивается в 5 баллов.\n",
        "\n",
        "Дедлайн первого домашнего задания — 25 мая в 19:00. Решения нужно отправить по адресу pygraphs.sber@gmail.com. Решения будут проверены до 19:00 26 мая. \n",
        "\n",
        "Также можно отправить решения до 19:00 23 мая. Тогда они будут проверены до 19:00 24 мая и в случае наличия ошибок можно будет успеть их исправить до основного дедлайна.\n",
        "\n",
        "---\n",
        "\n"
      ]
    },
    {
      "cell_type": "code",
      "execution_count": 1,
      "metadata": {
        "id": "1kWZw5S35Oe1"
      },
      "outputs": [
        {
          "name": "stdout",
          "output_type": "stream",
          "text": [
            "Число вершин:  262111\n",
            "Число ребер:  899792\n",
            "Число компонент связности:  1\n"
          ]
        }
      ],
      "source": [
        "# Задаем граф\n",
        "\n",
        "import networkx as nx\n",
        "import matplotlib.pyplot as plt\n",
        "\n",
        "\n",
        "# Считываем данные из файла и заводим граф G_am\n",
        "G_am = nx.read_edgelist(\"amazon0302.txt\", create_using=nx.Graph(), nodetype=int, data=False)\n",
        "\n",
        "# Перенумеровываем вершины\n",
        "G_am = nx.convert_node_labels_to_integers(G_am, ordering='decreasing degree')\n",
        "\n",
        "# Печатаем число вершин в G_am\n",
        "nodes = G_am.number_of_nodes()\n",
        "print(\"Число вершин: \", nodes)\n",
        "\n",
        "# Печатаем число ребер в G_am\n",
        "edges = G_am.number_of_edges()\n",
        "print(\"Число ребер: \", edges)\n",
        "\n",
        "# Печатаем число компонент связности в G_am\n",
        "print(\"Число компонент связности: \", nx.number_connected_components(G_am))"
      ]
    },
    {
      "cell_type": "code",
      "execution_count": 2,
      "metadata": {},
      "outputs": [],
      "source": [
        "def cutoff_by_degree(G, degree_threshold = 5):\n",
        "    # Добавьте сюда ваше решение. \n",
        "    # Результатом работы функции должен быть граф, получающийся из изначального графа последовательным удалением вершин степени не больше 5\n",
        "    while [vertex for vertex, degree in G.degree() if degree <= degree_threshold] != []:          \n",
        "        curr_vertex = [vertex for vertex, degree in G.degree() if degree <= degree_threshold]\n",
        "        for i in curr_vertex:\n",
        "            G.remove_node(i)\n",
        "    return G"
      ]
    },
    {
      "cell_type": "code",
      "execution_count": 3,
      "metadata": {
        "id": "4du7LX6-6Lkh"
      },
      "outputs": [
        {
          "name": "stdout",
          "output_type": "stream",
          "text": [
            "Число вершин:  286\n",
            "Число ребер:  950\n",
            "Число компонент связности:  32\n"
          ]
        }
      ],
      "source": [
        "# Создаем копию графа, чтобы не портить основной\n",
        "G = G_am.copy()\n",
        "cutoff_by_degree(G)\n",
        "\n",
        "\n",
        "# Печатаем число вершин в G\n",
        "nodes = G.number_of_nodes()\n",
        "print(\"Число вершин: \", nodes)\n",
        "\n",
        "# Печатаем число ребер в G\n",
        "edges = G.number_of_edges()\n",
        "print(\"Число ребер: \", edges)\n",
        "\n",
        "# Печатаем число компонент связности в G\n",
        "print(\"Число компонент связности: \", nx.number_connected_components(G))"
      ]
    },
    {
      "cell_type": "code",
      "execution_count": 4,
      "metadata": {
        "id": "1gEghNT6BVWI"
      },
      "outputs": [
        {
          "data": {
            "image/png": "[encoded data removed]",
            "text/plain": [
              "<Figure size 432x288 with 1 Axes>"
            ]
          },
          "metadata": {},
          "output_type": "display_data"
        }
      ],
      "source": [
        "# В этом блоке можно посмотреть на результат\n",
        "\n",
        "def draw_G(G):\n",
        "    options = {\n",
        "        \"node_size\": 2,\n",
        "        \"node_color\": \"black\",\n",
        "        \"edgecolors\": \"black\",\n",
        "        \"linewidths\": 0.1,\n",
        "        \"width\": 0.1,\n",
        "    }\n",
        "\n",
        "    nx.draw_networkx(G, with_labels=False, **options)\n",
        "    plt.show()\n",
        "\n",
        "\n",
        "draw_G(G)"
      ]
    }
  ],
  "metadata": {
    "colab": {
      "collapsed_sections": [],
      "name": "hw1_sol.ipynb",
      "provenance": []
    },
    "interpreter": {
      "hash": "8c434f5c3407a1f0560767d14fec2b400e4013a14f0c41196f1dd95134a3e25e"
    },
    "kernelspec": {
      "display_name": "Python 3.9.7 ('base')",
      "language": "python",
      "name": "python3"
    },
    "language_info": {
      "codemirror_mode": {
        "name": "ipython",
        "version": 3
      },
      "file_extension": ".py",
      "mimetype": "text/x-python",
      "name": "python",
      "nbconvert_exporter": "python",
      "pygments_lexer": "ipython3",
      "version": "3.9.7"
    }
  },
  "nbformat": 4,
  "nbformat_minor": 0
}
